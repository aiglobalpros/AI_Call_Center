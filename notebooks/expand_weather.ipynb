{
 "cells": [
  {
   "cell_type": "code",
   "execution_count": null,
   "metadata": {},
   "outputs": [],
   "source": [
    "# from mpl_toolkits.basemap import Basemap\n",
    "from google.cloud import bigquery\n",
    "import matplotlib.pyplot as plt\n",
    "import matplotlib as mpl\n",
    "import seaborn as sns\n",
    "import pandas as pd\n",
    "import numpy as np\n",
    "import shutil"
   ]
  },
  {
   "cell_type": "markdown",
   "metadata": {},
   "source": [
    "### Get the closest weather stations in Montreal"
   ]
  },
  {
   "cell_type": "code",
   "execution_count": null,
   "metadata": {},
   "outputs": [],
   "source": [
    "client = bigquery.Client()\n",
    "stations = client.query(\"\"\"\n",
    "    SELECT\n",
    "          name, id,\n",
    "          state,\n",
    "          latitude,\n",
    "          longitude,\n",
    "          ST_DISTANCE(\n",
    "              ST_GEOGPOINT(-73.573570, 45.522490), \n",
    "              ST_GEOGPOINT(longitude, latitude)\n",
    "          ) AS dist_ms \n",
    "        FROM\n",
    "          `bigquery-public-data.ghcn_d.ghcnd_stations`\n",
    "        ORDER BY\n",
    "          dist_ms ASC\n",
    "        LIMIT\n",
    "          20\n",
    "    \"\"\")\n",
    "results = stations.result()"
   ]
  },
  {
   "cell_type": "code",
   "execution_count": null,
   "metadata": {},
   "outputs": [],
   "source": [
    "for row in results:\n",
    "    print(\"{} : {} : {} : {} : {} : {}\".format(row.name, row.id, row.state, row.latitude, row.longitude, row.dist_ms))"
   ]
  },
  {
   "cell_type": "markdown",
   "metadata": {},
   "source": [
    "### Get the weather features from the weather stations"
   ]
  },
  {
   "cell_type": "code",
   "execution_count": null,
   "metadata": {},
   "outputs": [],
   "source": [
    "def get_weather(year):\n",
    "    weather = client.query(\"\"\"\n",
    "            SELECT\n",
    "              date,\n",
    "              IF (element = 'PRCP', value/10, NULL) AS prcp,\n",
    "              IF (element = 'TMIN', value/10, NULL) AS tmin,\n",
    "              IF (element = 'TMAX', value/10, NULL) AS tmax,\n",
    "              IF (element = 'SNOW', value, NULL) AS snow,\n",
    "              IF (element = 'SNWD', value / 10, NULL) AS snwd,\n",
    "              IF (element = 'ACMD', value, NULL) AS acmh,\n",
    "              IF (element = 'ACSH', value, NULL) AS acsh,\n",
    "              IF (element = 'AWDR', value, NULL) AS awdr,\n",
    "              IF (element = 'AWND', value, NULL) AS awnd,\n",
    "              IF (element = 'FRGB', value, NULL) AS frgb,\n",
    "              IF (element = 'FRGT', value, NULL) AS frgt,\n",
    "              IF (element = 'FRTH', value, NULL) AS frth,\n",
    "              IF (element = 'EVAP', value, NULL) AS evap,\n",
    "              IF (element = 'PSUN', value, NULL) AS psun,\n",
    "              IF (SUBSTR(element, 0, 2) = 'SN', value / 10, NULL) AS sntmp,\n",
    "              IF (SUBSTR(element, 0, 2) = 'SX', value / 10, NULL) AS sxtmp,\n",
    "              IF (element = 'TAVG', value / 10, NULL) AS tavg,\n",
    "              IF (element = 'THIC', value / 10, NULL) AS thic,\n",
    "              IF (element = 'TSUN', value, NULL) AS tsun,\n",
    "              IF (element = 'WDFG', value, NULL) AS wdfg,\n",
    "              IF (element = 'WDFI', value, NULL) AS wdfi,\n",
    "              IF (element = 'WDFM', value, NULL) AS wdfm,\n",
    "              IF (element = 'WDMV', value, NULL) AS wdmv,\n",
    "              IF (element = 'WESD', value / 10, NULL) AS wesd,\n",
    "              IF (element = 'WESF', value / 10, NULL) AS wesf,\n",
    "              IF (element = 'WSFG', value / 10, NULL) AS wsfg,\n",
    "              IF (element = 'WT01', 1, 0) AS wt_fog,\n",
    "              IF (element = 'WT02', 1, 0) AS wt_heavy_fog,\n",
    "              IF (element = 'WT03', 1, 0) AS wt_thunder,\n",
    "              IF (element = 'WT04', 1, 0) AS wt_pellet,\n",
    "              IF (element = 'WT05', 1, 0) AS wt_hail,\n",
    "              IF (element = 'WT06', 1, 0) AS wt_glaze,\n",
    "              IF (element = 'WT07', 1, 0) AS wt_dust,\n",
    "              IF (element = 'WT08', 1, 0) AS wt_smoke,\n",
    "              IF (element = 'WT09', 1, 0) AS wt_blow,\n",
    "              IF (element = 'WT10', 1, 0) AS wt_tornado,\n",
    "              IF (element = 'WT11', 1, 0) AS wt_dam_wind,\n",
    "              IF (element = 'WT12', 1, 0) AS wt_spray,\n",
    "              IF (element = 'WT13', 1, 0) AS wt_mist,\n",
    "              IF (element = 'WT14', 1, 0) AS wt_drizzle,\n",
    "              IF (element = 'WT15', 1, 0) AS wt_freez_drizzle,\n",
    "              IF (element = 'WT16', 1, 0) AS wt_rain,\n",
    "              IF (element = 'WT17', 1, 0) AS wt_freeze_rain,\n",
    "              IF (element = 'WT18', 1, 0) AS wt_ice,\n",
    "              IF (element = 'WT19', 1, 0) AS wt_unk_prpt,\n",
    "              IF (element = 'WT20', 1, 0) AS wt_gr_fog,\n",
    "              IF (element = 'WT21', 1, 0) AS wt_ice_fog\n",
    "          FROM\n",
    "            `bigquery-public-data.ghcn_d.ghcnd_{}`\n",
    "          WHERE\n",
    "            id = 'CA007024745'\n",
    "            AND qflag IS NULL\n",
    "          ORDER BY \n",
    "            date ASC\n",
    "        \"\"\".format(year))\n",
    "    results = weather.result()\n",
    "    return results"
   ]
  },
  {
   "cell_type": "code",
   "execution_count": null,
   "metadata": {},
   "outputs": [],
   "source": [
    "cols = [\"date\", \"prcp\", \"tmin\", \"tmax\", \"snow\", \"snwd\", \"acmh\", \"acsh\", \"awdr\", \"awnd\", \"frgb\", \"frgt\", \"frth\",\n",
    "        \"evap\", \"psun\", \"sntmp\", \"sxtmp\", \"tavg\", \"thic\", \"tsun\", \"wdfg\", \"wdfi\", \"wdfm\", \"wdmv\", \n",
    "        \"wesd\", \"wsfg\", \"wt_fog\", \"wt_heavy_fog\", \"wt_thunder\", \"wt_pellet\", \"wt_hail\", \"wt_glaze\",\n",
    "        \"wt_dust\", \"wt_smoke\", \"wt_blow\", \"wt_tornado\", \"wt_dam_wind\", \"wt_spray\", \"wt_mist\", \"wt_drizzle\",\n",
    "        \"wt_freez_drizzle\", \"wt_rain\", \"wt_freeze_rain\", \"wt_ice\", \"wt_unk_prpt\", \"wt_gr_fog\", \"wt_ice_fog\"]\n",
    "\n",
    "data = {v : [] for v in cols}\n",
    "\n",
    "for y in [2018, 2019, 2020]:\n",
    "    res = get_weather(y)\n",
    "    for r in res:\n",
    "        for c in cols:\n",
    "            data[c].append(getattr(r, c))\n",
    "\n",
    "        \n",
    "df = pd.DataFrame(data=data)\n",
    "df.head()"
   ]
  },
  {
   "cell_type": "code",
   "execution_count": null,
   "metadata": {},
   "outputs": [],
   "source": [
    "num_cols = [\n",
    "    'prcp', 'tmin', 'tmax', 'snwd', 'sntmp', 'tavg', 'wdfg', 'wsfg'\n",
    "]\n",
    "bool_cols = [\n",
    "   'wt_fog', 'wt_heavy_fog', 'wt_thunder', 'wt_pellet', 'wt_hail',\n",
    "   'wt_glaze', 'wt_dust', 'wt_smoke', 'wt_blow', 'wt_tornado',\n",
    "   'wt_dam_wind', 'wt_spray', 'wt_mist', 'wt_drizzle', 'wt_freez_drizzle',\n",
    "   'wt_rain', 'wt_freeze_rain', 'wt_ice', 'wt_unk_prpt', 'wt_gr_fog',\n",
    "   'wt_ice_fog'\n",
    "]\n",
    "\n",
    "\n",
    "groupby_dict = {}\n",
    "groupby_dict.update({nc : ['min', 'max', 'mean'] for nc in num_cols})\n",
    "groupby_dict.update({bc : ['max'] for bc in bool_cols})\n",
    "new_cols = [\"date\"] + [agg + \"_\" + nc for nc in num_cols for agg in ['min', 'max', 'mean']] + bool_cols\n",
    "\n",
    "out = df.dropna(axis=1, how='all')\n",
    "out = out.groupby(\"date\").agg(groupby_dict).reset_index()\n",
    "out.columns = out.columns.droplevel()\n",
    "out.columns = new_cols\n",
    "out.head()"
   ]
  },
  {
   "cell_type": "code",
   "execution_count": null,
   "metadata": {},
   "outputs": [],
   "source": [
    "def getDuplicateColumns(df):\n",
    "    '''\n",
    "    Get a list of duplicate columns.\n",
    "    It will iterate over all the columns in dataframe and find the columns whose contents are duplicate.\n",
    "    :param df: Dataframe object\n",
    "    :return: List of columns whose contents are duplicates.\n",
    "    '''\n",
    "    duplicateColumnNames = set()\n",
    "    # Iterate over all the columns in dataframe\n",
    "    for x in range(df.shape[1]):\n",
    "        # Select column at xth index.\n",
    "        col = df.iloc[:, x]\n",
    "        # Iterate over all the columns in DataFrame from (x+1)th index till end\n",
    "        for y in range(x + 1, df.shape[1]):\n",
    "            # Select column at yth index.\n",
    "            otherCol = df.iloc[:, y]\n",
    "            # Check if two columns at x 7 y index are equal\n",
    "            if col.equals(otherCol):\n",
    "                duplicateColumnNames.add(df.columns.values[y])\n",
    " \n",
    "    return list(duplicateColumnNames)"
   ]
  },
  {
   "cell_type": "markdown",
   "metadata": {},
   "source": [
    "- Time period: 2020, don't have 2017\n",
    "- prcp: rain precipitation in millimeters\n",
    "- tmin: minimum temperature in degree celsius\n",
    "- tmax: maximum temperature in degree celsius\n",
    "- snwd: snow depth (mm)\n",
    "- tavg: average temperature (degree celsius)\n",
    "- wdfg: direction of peak wind gust (degree)\n",
    "- wsfg: peak gust wind speed (m / s)"
   ]
  },
  {
   "cell_type": "code",
   "execution_count": null,
   "metadata": {},
   "outputs": [],
   "source": [
    "dup_cols = getDuplicateColumns(out) + [\"wt_fog\"]\n",
    "out = out.drop(columns=dup_cols)\n",
    "out.head()"
   ]
  },
  {
   "cell_type": "code",
   "execution_count": null,
   "metadata": {},
   "outputs": [],
   "source": [
    "gs_uri = 'gs://videotron-ai-bucket/'\n",
    "dataset_path = gs_uri + 'dataset/'\n",
    "df.to_csv(dataset_path + 'daily_weather_montreal.csv', index=False)"
   ]
  },
  {
   "cell_type": "code",
   "execution_count": null,
   "metadata": {},
   "outputs": [],
   "source": []
  }
 ],
 "metadata": {
  "kernelspec": {
   "display_name": "Python 3",
   "language": "python",
   "name": "python3"
  },
  "language_info": {
   "codemirror_mode": {
    "name": "ipython",
    "version": 3
   },
   "file_extension": ".py",
   "mimetype": "text/x-python",
   "name": "python",
   "nbconvert_exporter": "python",
   "pygments_lexer": "ipython3",
   "version": "3.7.6"
  }
 },
 "nbformat": 4,
 "nbformat_minor": 4
}

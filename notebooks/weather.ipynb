{
 "cells": [
  {
   "cell_type": "code",
   "execution_count": 1,
   "metadata": {},
   "outputs": [],
   "source": [
    "# from mpl_toolkits.basemap import Basemap\n",
    "from google.cloud import bigquery\n",
    "import matplotlib.pyplot as plt\n",
    "import matplotlib as mpl\n",
    "import seaborn as sns\n",
    "import pandas as pd\n",
    "import numpy as np\n",
    "import shutil"
   ]
  },
  {
   "cell_type": "markdown",
   "metadata": {},
   "source": [
    "### Get the closest weather stations in Montreal"
   ]
  },
  {
   "cell_type": "code",
   "execution_count": 2,
   "metadata": {},
   "outputs": [],
   "source": [
    "client = bigquery.Client()\n",
    "stations = client.query(\"\"\"\n",
    "    SELECT\n",
    "          name, id,\n",
    "          state,\n",
    "          latitude,\n",
    "          longitude,\n",
    "          ST_DISTANCE(\n",
    "              ST_GEOGPOINT(-73.573570, 45.522490), \n",
    "              ST_GEOGPOINT(longitude, latitude)\n",
    "          ) AS dist_ms \n",
    "        FROM\n",
    "          `bigquery-public-data.ghcn_d.ghcnd_stations`\n",
    "        ORDER BY\n",
    "          dist_ms ASC\n",
    "        LIMIT\n",
    "          20\n",
    "    \"\"\")\n",
    "results = stations.result()"
   ]
  },
  {
   "cell_type": "code",
   "execution_count": 3,
   "metadata": {},
   "outputs": [
    {
     "name": "stdout",
     "output_type": "stream",
     "text": [
      "MONTREAL LAFONTAINE            : CA007025267 : QC : 45.5167 : -73.5667 : 837.2523104850238\n",
      "MONTRéAL 1.8 S - JEANNE-MANCE  : CA1QC000038 : QC : 45.5128 : -73.5641 : 1305.8981134240278\n",
      "MONTRéAL 1.9 S                 : CA1QC000041 : QC : 45.5121 : -73.5601 : 1560.8342656258706\n",
      "MONTREAL MCGILL                : CA007025280 : QC : 45.5 : -73.5833 : 2613.183850558025\n",
      "MCTAVISH                       : CA007024745 : QC : 45.5 : -73.5833 : 2613.183850558025\n",
      "MONTREAL JEAN BREBEUF          : CA007025260 : QC : 45.5 : -73.6167 : 4189.121028609436\n",
      "MONT-ROYAL 1.6 NNE             : CA1QC000030 : QC : 45.5314 : -73.6386 : 5161.833885584858\n",
      "MONTREAL JAR BOT               : CA007025257 : QC : 45.5667 : -73.55 : 5247.438519912239\n",
      "ST LAURENT (COLLEGE)           : CA007027440 : QC : 45.5167 : -73.6667 : 7284.316511379227\n",
      "MONTREAL ICE CONTROL           : CA007025245 : QC : 45.4667 : -73.5 : 8447.955917600664\n",
      "LAVAL DES RAPIDES              : CA007024256 : QC : 45.5333 : -73.7 : 9921.856986002194\n",
      "LA SALLE                       : CA007024118 : QC : 45.4333 : -73.6167 : 10472.098706496026\n",
      "COTE ST LUC                    : CA007021945 : QC : 45.45 : -73.6667 : 10848.102847864388\n",
      "MONTREAL/ST-HUBERT             : CA007027329 : QC : 45.5167 : -73.4167 : 12238.771506563866\n",
      "MONTREAL/ST-HUBERT A           : CA007027322 : QC : 45.5167 : -73.4167 : 12238.771506563866\n",
      "MONTREAL/ST-HUBERT A           : CA007027320 : QC : 45.5167 : -73.4167 : 12238.771506563866\n",
      "MONTREAL-EST                   : CA007025252 : QC : 45.6333 : -73.55 : 12457.338228726638\n",
      "POSTE SARAGUAY                 : CA007026213 : QC : 45.5 : -73.75 : 13973.394275001185\n",
      "MONTREAL INTL A                : CA007025251 : QC : 45.4706 : -73.7408 : 14254.305537495033\n",
      "DUVERNAY                       : CA007022250 : QC : 45.6333 : -73.6833 : 14991.866064890015\n"
     ]
    }
   ],
   "source": [
    "for row in results:\n",
    "    print(\"{} : {} : {} : {} : {} : {}\".format(row.name, row.id, row.state, row.latitude, row.longitude, row.dist_ms))"
   ]
  },
  {
   "cell_type": "markdown",
   "metadata": {},
   "source": [
    "### Get the weather features from the weather stations\n",
    "\n",
    "- Time period: 2020, don't have 2017\n",
    "- prcp: rain precipitation in millimeters\n",
    "- tmin: minimum temperature in degree celsius\n",
    "- tmax: maximum temperature in degree celsius\n",
    "- hasws: if there was significant weather events or not, such as fog, hail, rain"
   ]
  },
  {
   "cell_type": "code",
   "execution_count": 33,
   "metadata": {},
   "outputs": [],
   "source": [
    "def get_weather(year):\n",
    "    weather = client.query(\"\"\"\n",
    "          SELECT\n",
    "            date,\n",
    "            MAX(prcp) AS prcp,\n",
    "            MAX(tmin) AS tmin,\n",
    "            MAX(tmax) AS tmax,\n",
    "            IF(MAX(haswx) = 'True', 'True', 'False') AS haswx\n",
    "          FROM (\n",
    "            SELECT\n",
    "              date,\n",
    "              IF (element = 'PRCP', value/10, NULL) AS prcp,\n",
    "              IF (element = 'TMIN', value/10, NULL) AS tmin,\n",
    "              IF (element = 'TMAX', value/10, NULL) AS tmax,\n",
    "              IF (SUBSTR(element, 0, 2) = 'WT', 'True', NULL) AS haswx\n",
    "          FROM\n",
    "            `bigquery-public-data.ghcn_d.ghcnd_{}`\n",
    "          WHERE\n",
    "            id = 'CA007022250'\n",
    "            AND qflag IS NULL)\n",
    "          GROUP BY\n",
    "            date\n",
    "          ORDER BY \n",
    "            date ASC\n",
    "        \"\"\".format(year))\n",
    "    results = weather.result()\n",
    "    return results"
   ]
  },
  {
   "cell_type": "code",
   "execution_count": 34,
   "metadata": {},
   "outputs": [
    {
     "data": {
      "text/plain": [
       "Series([], Name: haswx, dtype: int64)"
      ]
     },
     "execution_count": 34,
     "metadata": {},
     "output_type": "execute_result"
    }
   ],
   "source": [
    "data = {'date' : [], 'prcp' : [], 'tmin' : [], 'tmax' : [], 'haswx' : []}\n",
    "\n",
    "for y in [2018, 2019, 2020]:\n",
    "    res = get_weather(y)\n",
    "    for r in res:\n",
    "        data[\"date\"].append(r.date)\n",
    "        data[\"prcp\"].append(r.prcp)\n",
    "        data[\"tmin\"].append(r.tmin)\n",
    "        data[\"tmax\"].append(r.tmax)\n",
    "        data[\"haswx\"].append(r.haswx)\n",
    "\n",
    "        \n",
    "df = pd.DataFrame(data=data)\n",
    "df['haswx'].value_counts()"
   ]
  },
  {
   "cell_type": "code",
   "execution_count": 97,
   "metadata": {},
   "outputs": [],
   "source": [
    "gs_uri = 'gs://videotron-ai-bucket/'\n",
    "dataset_path = gs_uri + 'dataset/'\n",
    "df.to_csv(dataset_path + 'daily_weather_montreal.csv', index=False)"
   ]
  },
  {
   "cell_type": "code",
   "execution_count": null,
   "metadata": {},
   "outputs": [],
   "source": []
  }
 ],
 "metadata": {
  "kernelspec": {
   "display_name": "Python 3",
   "language": "python",
   "name": "python3"
  },
  "language_info": {
   "codemirror_mode": {
    "name": "ipython",
    "version": 3
   },
   "file_extension": ".py",
   "mimetype": "text/x-python",
   "name": "python",
   "nbconvert_exporter": "python",
   "pygments_lexer": "ipython3",
   "version": "3.7.6"
  }
 },
 "nbformat": 4,
 "nbformat_minor": 4
}

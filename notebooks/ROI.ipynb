{
 "cells": [
  {
   "cell_type": "code",
   "execution_count": null,
   "metadata": {},
   "outputs": [],
   "source": [
    "import pandas as pd\n",
    "import numpy as np\n",
    "import matplotlib.pyplot as plt\n",
    "from sklearn.preprocessing import MinMaxScaler\n",
    "from scipy import stats\n",
    "import sys\n",
    "\n",
    "sys.path.append('../')\n",
    "\n",
    "from src.functions import load_dataset, cast_CCT_features\n",
    "\n",
    "scaler = MinMaxScaler()"
   ]
  },
  {
   "cell_type": "markdown",
   "metadata": {},
   "source": [
    "### Number of advisors per hour\n",
    "Read the planning from the excel file"
   ]
  },
  {
   "cell_type": "code",
   "execution_count": null,
   "metadata": {},
   "outputs": [],
   "source": [
    "gs_uri = 'gs://videotron-ai-bucket/'\n",
    "dataset_path = gs_uri + 'dataset/'\n",
    "planning_df = pd.read_excel(dataset_path+'Planning intra-day 2020-01-01 au 2020-04-30.xlsx')\n",
    "planning_df = planning_df.fillna(0.0)\n",
    "planning_df"
   ]
  },
  {
   "cell_type": "markdown",
   "metadata": {},
   "source": [
    "### Display an histograms of mean number of advisors in the IT call center of calls per hour of the day"
   ]
  },
  {
   "cell_type": "code",
   "execution_count": null,
   "metadata": {},
   "outputs": [],
   "source": [
    "hours_cols = planning_df.iloc[:,2:].columns.values\n",
    "x = range(0, 24)\n",
    "y = planning_df[hours_cols].mean(axis=0).values\n",
    "\n",
    "plt.bar(x, y)\n",
    "\n",
    "plt.ylabel('Mean number of advisors')\n",
    "plt.xticks(x)\n",
    "plt.xlabel('Hour')"
   ]
  },
  {
   "cell_type": "markdown",
   "metadata": {},
   "source": [
    "### Compute the avg number of advisors in the working hours"
   ]
  },
  {
   "cell_type": "code",
   "execution_count": null,
   "metadata": {},
   "outputs": [],
   "source": [
    "# Most calls happen in this period\n",
    "working_hours_cols = ['08:00', '09:00', '10:00', '11:00', '12:00',\n",
    "        '13:00', '14:00', '15:00', '16:00', '17:00']\n",
    "planning_df['date'] = pd.to_datetime(planning_df['Date nominale'])\n",
    "planning_df['avg_num_advisors'] = planning_df[hours_cols].mean(axis=1).round(1)\n",
    "planning_df['avg_num_advisors_8_to_5'] = planning_df[working_hours_cols].mean(axis=1)\n",
    "advisor_df = planning_df[['date', 'avg_num_advisors','avg_num_advisors_8_to_5']]\n",
    "\n",
    "advisor_df"
   ]
  },
  {
   "cell_type": "markdown",
   "metadata": {},
   "source": [
    "### Daily Performance of the IT call center\n",
    "The average times are in seconds"
   ]
  },
  {
   "cell_type": "code",
   "execution_count": null,
   "metadata": {},
   "outputs": [],
   "source": [
    "perfo_df = pd.read_csv(dataset_path + 'performance_centre_appels_sept2017_mars2020.csv', encoding='iso-8859-1')\n",
    "perfo_df.columns = ['week_day', 'date', 'total_calls', 'accept', 'accept_percent', 'abandon', 'abandon_percent',\n",
    "                'SLA', 'avg_time_treat', 'avg_time_engage', 'avg_time_accept', 'avg_time_abadon', \n",
    "                'max_time_accept', 'max_time_abandon', 'accept_percent_no_attend', 'abandon_during_ring',\n",
    "                'abandon_short', 'other']\n",
    "perfo_df.head()"
   ]
  },
  {
   "cell_type": "markdown",
   "metadata": {},
   "source": [
    "### Average daily abandon percentage\n",
    "\n",
    "#### First objective: **Drop goal 10%**:\n",
    "Percentage Total of abandoned calls per day. The objective is to reach an average daily percentage of abandoned calls less than or equal to **10%** of all calls Receipts\n",
    "\n",
    "\n",
    "* Current average daily percentage of abandoned calls is 20% for year 2020. So we need to divide by two this metric\n",
    "* Given the strong correlation between abandon percentage and average wait time, reducing average wait time will decrease abandon percentage"
   ]
  },
  {
   "cell_type": "code",
   "execution_count": null,
   "metadata": {},
   "outputs": [],
   "source": [
    "# Convert the average time from minutes to hours\n",
    "perfo_df['avg_time_accept_min'] = perfo_df['avg_time_accept'] / 60.\n",
    "perfo_df['avg_time_abandon_min'] = perfo_df['avg_time_abadon'] / 60.\n",
    "\n",
    "# Set he abandon percentage\n",
    "perfo_df['abandon_percentage'] = perfo_df['abandon_percent'] * 100.\n",
    "\n",
    "# Define the start of the test period\n",
    "test_df = perfo_df[perfo_df['date'] >= '2020-01-01'].copy().reset_index(drop=True)\n",
    "\n",
    "#\n",
    "mean_abandon = test_df['abandon_percentage'].mean()\n",
    "print('Mean abandon percentage on the test period: %.2f%%' % mean_abandon)"
   ]
  },
  {
   "cell_type": "markdown",
   "metadata": {},
   "source": [
    "### Compute the correlation between average waiting time and abandon percentage"
   ]
  },
  {
   "cell_type": "code",
   "execution_count": null,
   "metadata": {
    "scrolled": true
   },
   "outputs": [],
   "source": [
    "x  = range(test_df.shape[0])\n",
    "\n",
    "# Scale the data\n",
    "scaler.fit(test_df[['avg_time_abandon_min', 'abandon_percentage']])\n",
    "y = scaler.transform(test_df[['avg_time_abandon_min', 'abandon_percentage']])\n",
    "y1 = y[:, 0]\n",
    "y2 = y[:, 1]\n",
    "\n",
    "# Do a pearson correlation analysis\n",
    "pearson_r , p_val = stats.pearsonr(y1, y2)\n",
    "title_str = 'Corr coef: {0:.4f}    p-value: {1:.2e}'.format(pearson_r , p_val)\n",
    "\n",
    "plt.suptitle('Avg waiting time before abandon vs abandon percentage')\n",
    "plt.title(title_str, size=10)\n",
    "plt.plot(x, y1, 'r--', label='Avg waiting time before abandon') \n",
    "plt.plot(x, y2, 'b--', label='Abandon percentage')\n",
    "plt.xlabel('Observation day')\n",
    "plt.legend()\n",
    "plt.show()"
   ]
  },
  {
   "cell_type": "code",
   "execution_count": null,
   "metadata": {
    "jupyter": {
     "source_hidden": true
    }
   },
   "outputs": [],
   "source": [
    "meadian_ratio = np.median(y1/y2)\n",
    "\n",
    "plt.plot(x, y1/y2, 'r--', label='ratio') \n",
    "plt.suptitle('Ratio of percentage of abandonned calls on avg waiting time')\n",
    "plt.title('Median is: {0:.2f}'.format(meadian_ratio), size=10)\n",
    "plt.xlabel('Observation day')\n",
    "plt.legend()\n",
    "plt.show()\n",
    "\n",
    "print('The median ratio of percentage of abandonned calls on avg waiting time is {0:.2f}'.format(meadian_ratio))"
   ]
  },
  {
   "cell_type": "markdown",
   "metadata": {},
   "source": [
    "### Compute the correlation between the number of calls and the waiting time\n",
    "On the test period"
   ]
  },
  {
   "cell_type": "code",
   "execution_count": null,
   "metadata": {},
   "outputs": [],
   "source": [
    "x  = range(test_df.shape[0])\n",
    "\n",
    "# Scale the data\n",
    "scaler.fit(test_df[['avg_time_abandon_min', 'total_calls']])\n",
    "y = scaler.transform(test_df[['avg_time_abandon_min', 'total_calls']])\n",
    "y1 = y[:, 0]\n",
    "y2 = y[:, 1]\n",
    "\n",
    "# Do a pearson correlation analysis\n",
    "pearson_r , p_val = stats.pearsonr(y1, y2)\n",
    "print('Corr coef: %.4f, p-value: %.2e' % (pearson_r , p_val))\n",
    "\n",
    "plt.plot(x, y1, 'r--', label='Avg waiting time before abandon') \n",
    "plt.plot(x, y2, 'b--', label='Total number of calls')\n",
    "plt.xlabel('Observation day')\n",
    "plt.legend()\n",
    "plt.show()"
   ]
  },
  {
   "cell_type": "markdown",
   "metadata": {},
   "source": [
    "### Compute the correlation between the number of calls and the waiting time\n",
    "On the 2 first months of the test. This correspond to a period before the COVID-19 crisis"
   ]
  },
  {
   "cell_type": "code",
   "execution_count": null,
   "metadata": {},
   "outputs": [],
   "source": [
    "x  = range(test_df.loc[0:60, :].shape[0])\n",
    "\n",
    "# Scale the data\n",
    "scaler.fit(test_df.loc[0:60, ['avg_time_abandon_min', 'total_calls']])\n",
    "y = scaler.transform(test_df.loc[0:60, ['avg_time_abandon_min', 'total_calls']])\n",
    "y1 = y[:, 0]\n",
    "y2 = y[:, 1]\n",
    "\n",
    "# Do a pearson correlation analysis\n",
    "pearson_r , p_val = stats.pearsonr(y1, y2)\n",
    "print('Corr coef: %.4f, p-value: %.2e' % (pearson_r , p_val))\n",
    "\n",
    "plt.plot(x, y1, 'r--', label='Avg waiting time before abandon') \n",
    "plt.plot(x, y2, 'b--', label='Total number of calls')\n",
    "plt.xlabel('Observation day')\n",
    "plt.legend()\n",
    "plt.show()"
   ]
  },
  {
   "cell_type": "markdown",
   "metadata": {},
   "source": [
    "### Daily wait time\n",
    "\n",
    "#### Second objective: \n",
    "* The curent weekly waiting time is 550 hours\n",
    "* The objective is to reduce the weekly waiting time to 300 hours \n",
    "* A week is from monday to sunday\n",
    "\n",
    "* The waiting time is depends on the volume of calls (see correlation analysis above)\n",
    "* **time gain on Call Center advisors**: operational time we could save on IT call center ressources. This means we could've let the clients wait more time to reduce call center capacity and therefore reduce the operational cost of the IT call center\n",
    "* **time to gain on Videotron employee working hours**: hours worked by the Videotron's employee. This means we should answer quicker by increasing capacity when required. The Videotron's employee will wait less time when they call the IT center and thereore will be more productive\n",
    "\n",
    "\n",
    "#### Assumption: We assume that if given the perfectly accurate prediction of number of calls, the call center management will be able to allocate exact number of advisors to keep desire average wait time"
   ]
  },
  {
   "cell_type": "code",
   "execution_count": null,
   "metadata": {},
   "outputs": [],
   "source": [
    "test_df.columns.values"
   ]
  },
  {
   "cell_type": "code",
   "execution_count": null,
   "metadata": {},
   "outputs": [],
   "source": [
    "test_df['avg_time_abandon_min']"
   ]
  },
  {
   "cell_type": "code",
   "execution_count": null,
   "metadata": {},
   "outputs": [],
   "source": [
    "test_df"
   ]
  },
  {
   "cell_type": "markdown",
   "metadata": {},
   "source": [
    "### Weekly wait time\n",
    "Compute the weekly wait time in hours during the test period.\n",
    "\n",
    "Reminder: the average times are in second in the dataframe"
   ]
  },
  {
   "cell_type": "code",
   "execution_count": null,
   "metadata": {},
   "outputs": [],
   "source": [
    "test_df['total_time_accept']  = (test_df['avg_time_accept'] * test_df['accept']) / (60 * 60)\n",
    "test_df['total_time_abandon'] = (test_df['avg_time_abadon'] * test_df['abandon']) /  (60 * 60)\n",
    "test_df['total_time'] = test_df['total_time_accept'] + test_df['total_time_abandon']\n",
    "test_df['total_time_desire']  = 300/7 # The desired time is the weekly objective divided by 7 (7 days in a week)\n",
    "\n",
    "test_df['date'] = pd.to_datetime(test_df['date'])"
   ]
  },
  {
   "cell_type": "code",
   "execution_count": null,
   "metadata": {},
   "outputs": [],
   "source": [
    "out_df = test_df[['date', 'total_calls', 'total_time_accept', 'total_time_abandon', 'total_time', 'total_time_desire']]\n",
    "out_df = test_df.resample('W-Mon', on='date')\\\n",
    "          .agg({'total_calls': np.sum,\n",
    "                'total_time_accept' : np.sum, \n",
    "                'total_time_abandon' : np.sum,\n",
    "                'total_time': np.sum,\n",
    "                'total_time_desire' : np.sum}).reset_index()\\\n",
    "          .sort_values(by='date')\n",
    "\n",
    "out_df['mean_waiting_time (minutes)'] = (out_df['total_time']/out_df['total_calls'])*60\n",
    "\n",
    "# Compute the desired waiting time per call every week in order to achieve the 300 hours of waiting time per week\n",
    "out_df['mean_waiting_time_desired (minutes)'] = (out_df['total_time_desire']/out_df['total_calls'])*60\n",
    "out_df['week'] = out_df['date'].apply(lambda x: x.strftime('%U'))\n",
    "out_df['year'] = out_df['date'].apply(lambda x: x.strftime('%Y'))\n",
    "\n",
    "# #\n",
    "# print('Total desired weekly waiting time: %d hours' % out_df['total_time_desire'].mean())\n",
    "out_df"
   ]
  },
  {
   "cell_type": "code",
   "execution_count": null,
   "metadata": {},
   "outputs": [],
   "source": [
    "plt.bar(out_df.week, out_df['total_calls'])"
   ]
  },
  {
   "cell_type": "code",
   "execution_count": null,
   "metadata": {},
   "outputs": [],
   "source": [
    "out_df.iloc[:9, :].describe()"
   ]
  },
  {
   "cell_type": "markdown",
   "metadata": {},
   "source": [
    "### Compute the mean desired waiting time by call every week of the test period"
   ]
  },
  {
   "cell_type": "code",
   "execution_count": null,
   "metadata": {},
   "outputs": [],
   "source": [
    "current_waiting_time = out_df['mean_waiting_time (minutes)'].mean()\n",
    "WAITING_TIME_GOAL = out_df['mean_waiting_time_desired (minutes)'].mean()\n",
    "\n",
    "print('During the test period, the current mean waiting time for 1 call is: %.1f minutes' % current_waiting_time)\n",
    "print('During the test period, the desired mean waiting time for 1 call is: %.1f minutes' % WAITING_TIME_GOAL)"
   ]
  },
  {
   "cell_type": "code",
   "execution_count": null,
   "metadata": {},
   "outputs": [],
   "source": [
    "y1 = out_df['mean_waiting_time (minutes)'].values\n",
    "y2 = out_df['mean_waiting_time_desired (minutes)'].values\n",
    "\n",
    "x = out_df['week'].values\n",
    "y3 = WAITING_TIME_GOAL*np.ones(len(x))\n",
    "\n",
    "plt.plot(x, y1, 'r', label='Observed waiting time')\n",
    "# plt.plot(x, y2, 'b', label='Desired waiting time')\n",
    "plt.plot(x, y3, 'g--', label=f'Mean Desired waiting time ({WAITING_TIME_GOAL:.2} mins)')\n",
    "\n",
    "plt.ylabel('Waiting time by call (minutes)')\n",
    "plt.xlabel('Week of ' + str(out_df.loc[0,'year']))\n",
    "plt.title('Waiting times by call by week')\n",
    "plt.legend()\n",
    "\n",
    "plt.show()"
   ]
  },
  {
   "cell_type": "markdown",
   "metadata": {},
   "source": [
    "### Compute the mean desired abandon percentage based on the desired waiting time for one call"
   ]
  },
  {
   "cell_type": "code",
   "execution_count": null,
   "metadata": {},
   "outputs": [],
   "source": [
    "avg_abandon_percent_desired = test_df[test_df['avg_time_abandon_min'] <= WAITING_TIME_GOAL][['abandon_percentage']].mean()\n",
    "print('Average percentage of abandonned calls desired: %.2f%%' % avg_abandon_percent_desired)"
   ]
  },
  {
   "cell_type": "markdown",
   "metadata": {},
   "source": [
    "### Compute the possible gain on the accept waiting time and the abandon waiting time\n",
    "* For the calls accepted, if we can answer before the WAITING TIME GOAL, the time gain can be translate to more productivity for the Videotron's employee\n",
    "* For the calls with an abandon, if we can answer before the WAITING TIME GOAL, less people will abandon, the waiting time will decrease, the videotron's employee will not try a second time to call and can work instead. The gain is also in productivity\n",
    "\n",
    "We should focus on the gains on th waitings times because the cost of a videotron's employee waiting is much higher that the cost of an operator in the IT call center"
   ]
  },
  {
   "cell_type": "code",
   "execution_count": null,
   "metadata": {},
   "outputs": [],
   "source": [
    "test_df['accept_time_gains']  = (test_df['avg_time_accept_min']  - WAITING_TIME_GOAL) * test_df['accept']  / 60\n",
    "test_df['abandon_time_gains'] = (test_df['avg_time_abandon_min'] - WAITING_TIME_GOAL) * test_df['abandon'] / 60\n",
    "\n",
    "accept_wt_loss = test_df.loc[test_df['accept_time_gains'] <  0, 'accept_time_gains'].sum()\n",
    "accept_wt_gain = test_df.loc[test_df['accept_time_gains'] >= 0, 'accept_time_gains'].sum()\n",
    "abandon_wt_loss = test_df.loc[test_df['abandon_time_gains'] <  0, 'abandon_time_gains'].sum()\n",
    "abandon_wt_gain = test_df.loc[test_df['abandon_time_gains'] >= 0, 'abandon_time_gains'].sum()\n",
    "\n",
    "print(\"Accept time to lose\", accept_wt_loss, 'hours')\n",
    "print(\"Accept time to gain\", accept_wt_gain, 'hours')\n",
    "#\n",
    "print(\"Abandon time to lose\", abandon_wt_loss, 'hours')\n",
    "print(\"Abandon time to gain\", abandon_wt_gain, 'hours')"
   ]
  },
  {
   "cell_type": "code",
   "execution_count": null,
   "metadata": {},
   "outputs": [],
   "source": [
    "y1 = test_df['accept_time_gains'].values\n",
    "y2 = test_df['abandon_time_gains'].values\n",
    "\n",
    "x = test_df.index\n",
    "\n",
    "plt.plot(x, y1, 'b', label='Gain on waiting time on accepted')\n",
    "plt.ylabel('Total waiting time (hours)')\n",
    "plt.xlabel('Days in test set')\n",
    "plt.title('Possible gain on waiting times per day')\n",
    "plt.legend()\n",
    "\n",
    "plt.show()\n",
    "\n",
    "\n",
    "plt.plot(x, y2, 'orangered', label='Gain on waiting time on abandon')\n",
    "plt.ylabel('Total waiting time (hours)')\n",
    "plt.xlabel('Days in test set')\n",
    "plt.title('Possible gain on waiting times per day')\n",
    "plt.legend()\n",
    "\n",
    "plt.show()"
   ]
  },
  {
   "cell_type": "markdown",
   "metadata": {},
   "source": [
    "### Join with number of advisors\n",
    "\n",
    "- Can get the number of calls per hour to join with number of advisors per hour for next step\n",
    "\n",
    "\n",
    "### Temporary Conclusion\n",
    "\n",
    "- if ratio between average number of call volume per hour and average number of advisors per hours is < 5, then average wait time should be within 6.3 minutes desired wait time"
   ]
  },
  {
   "cell_type": "markdown",
   "metadata": {},
   "source": [
    "### Average ratio between average number of calls and average number of advisors per hour that result in wait time less than optimal wait time"
   ]
  },
  {
   "cell_type": "markdown",
   "metadata": {},
   "source": [
    "Get the number of calls per hour"
   ]
  },
  {
   "cell_type": "code",
   "execution_count": null,
   "metadata": {},
   "outputs": [],
   "source": [
    "CCT_df, perfo_df = load_dataset(dataset_path)\n",
    "CCT_df = CCT_df.loc[~CCT_df['Submitter'].str.contains('SYSTEM')]\n",
    "CCT_df = cast_CCT_features(CCT_df)"
   ]
  },
  {
   "cell_type": "code",
   "execution_count": null,
   "metadata": {},
   "outputs": [],
   "source": [
    "rename_dict = {'status': 'ticket count',\n",
    "               'Submit_Date_with_hour': 'datetime'}\n",
    "\n",
    "ticket_stats_df = CCT_df.groupby('Submit_Date_with_hour')['status'].count().reset_index()\n",
    "ticket_stats_df.rename(columns=rename_dict, inplace=True)\n",
    "ticket_stats_df['datetime'] = pd.to_datetime(ticket_stats_df['datetime'])\n",
    "# ticket_stats_df['datetime_int'] = ticket_stats_df['datetime'].astype('int')\n",
    "\n",
    "# ticket_stats_df['date'] = ticket_stats_df['datetime'].apply(lambda x: x.date())\n",
    "# ticket_stats_df['hour'] = ticket_stats_df['datetime'].apply(lambda x: x.hour)\n",
    "\n",
    "ticket_stats_df"
   ]
  },
  {
   "cell_type": "markdown",
   "metadata": {},
   "source": [
    "### Add the number of advisors along the number of call per hour"
   ]
  },
  {
   "cell_type": "code",
   "execution_count": null,
   "metadata": {},
   "outputs": [],
   "source": [
    "planning_df['Date nominale'] = pd.to_datetime(planning_df['Date nominale'])\n",
    "\n",
    "datetime_list = []\n",
    "nb_advisor_list = []\n",
    "\n",
    "for i, dt in enumerate(planning_df['Date nominale']):\n",
    "    for col in planning_df[hours_cols]:\n",
    "        nb_advisors = planning_df.loc[planning_df['Date nominale'] == dt, col][i]\n",
    "        datetime_list.append(f'{dt.date()} {col}')\n",
    "        nb_advisor_list.append(int(nb_advisors))\n",
    "\n",
    "nb_advisors_df = pd.DataFrame.from_dict({'datetime': datetime_list,\n",
    "                                         'nb advisors': nb_advisor_list})\n",
    "nb_advisors_df['datetime'] = pd.to_datetime(nb_advisors_df['datetime'])\n",
    "\n",
    "nb_advisors_df['date'] = nb_advisors_df['datetime'].apply(lambda x: x.date())\n",
    "nb_advisors_df['date'] = pd.to_datetime(nb_advisors_df['date'])\n",
    "nb_advisors_df['hour'] = nb_advisors_df['datetime'].apply(lambda x: x.hour)\n",
    "\n",
    "# Merge the number of tickets per hours with the number of advisors per hour\n",
    "nb_advisors_df = nb_advisors_df.merge(ticket_stats_df, how='left', on='datetime')\n",
    "nb_advisors_df['ticket count'] = nb_advisors_df['ticket count'].fillna(0)\n",
    "\n",
    "# Compute the ratio number of tickets by advisors\n",
    "nb_advisors_df['ticket count per advisor'] = (nb_advisors_df['ticket count']/nb_advisors_df['nb advisors']).fillna(0)\n",
    "nb_advisors_df['ticket count per advisor'] = nb_advisors_df['ticket count per advisor'].replace([np.inf, -np.inf], np.nan)\n",
    "nb_advisors_df"
   ]
  },
  {
   "cell_type": "code",
   "execution_count": null,
   "metadata": {},
   "outputs": [],
   "source": [
    "import matplotlib\n",
    "\n",
    "cond = (nb_advisors_df['ticket count per advisor'] != 0)\n",
    "\n",
    "fig, ax = plt.subplots(figsize=(12,4))\n",
    "\n",
    "y = nb_advisors_df.loc[cond, 'ticket count per advisor'].values\n",
    "x = nb_advisors_df.loc[cond, ['datetime']]\n",
    "mean = nb_advisors_df.loc[cond, 'ticket count per advisor'].mean()\n",
    "\n",
    "ax.xaxis.set_major_locator(matplotlib.dates.MonthLocator(list(range(1,13))))\n",
    "ax.xaxis.set_minor_locator(matplotlib.dates.DayLocator(list(range(1,90))))\n",
    "\n",
    "ax.xaxis.set_major_formatter(matplotlib.dates.DateFormatter(\"\\n%b\"))\n",
    "# ax.xaxis.set_minor_formatter(matplotlib.dates.DateFormatter(\"%d\"))\n",
    "plt.setp(ax.get_xticklabels(), rotation=0, ha=\"center\")\n",
    "\n",
    "plt.plot(x, y)\n",
    "plt.plot(x, mean*np.ones(len(y)), 'r--', label=f'mean ({mean:.2})')\n",
    "plt.ylabel('Ticket count per advisor per hour')\n",
    "plt.xticks(rotation=45) \n",
    "plt.legend()\n",
    "plt.show()"
   ]
  },
  {
   "cell_type": "code",
   "execution_count": null,
   "metadata": {},
   "outputs": [],
   "source": [
    "nb_advisors_df.loc[cond, :].describe()"
   ]
  },
  {
   "cell_type": "code",
   "execution_count": null,
   "metadata": {},
   "outputs": [],
   "source": [
    "cond = ((nb_advisors_df['hour'] >= 8) & (nb_advisors_df['hour'] <= 17))\n",
    "nb_advisors_df.loc[cond].describe()"
   ]
  },
  {
   "cell_type": "code",
   "execution_count": null,
   "metadata": {},
   "outputs": [],
   "source": [
    "cond = ((nb_advisors_df['hour'] >= 8) & (nb_advisors_df['hour'] <= 17))\n",
    "\n",
    "agg_df = nb_advisors_df.loc[cond].groupby('date').mean()\n",
    "agg_df"
   ]
  },
  {
   "cell_type": "code",
   "execution_count": null,
   "metadata": {},
   "outputs": [],
   "source": [
    "nb_advisors_df.loc[cond].groupby('hour').mean()"
   ]
  },
  {
   "cell_type": "code",
   "execution_count": null,
   "metadata": {},
   "outputs": [],
   "source": [
    "test_df = test_df[['date', 'total_calls', 'accept_percent', 'abandon_percent', 'avg_time_accept_min', 'avg_time_abandon_min']]\n",
    "test_df['date'] = pd.to_datetime(test_df['date'])\n",
    "test_df = test_df.merge(advisor_df, on='date', how='inner')\n",
    "\n",
    "# Divide by 10 => approximation for the 10 hours of working hours\n",
    "test_df['ratio_call_advisor'] = (test_df['total_calls'] / 10) / test_df['avg_num_advisors']\n",
    "\n",
    "# Merge Renan's ratio call advisor\n",
    "test_df = test_df.merge(nb_advisors_df[['date','ticket count per advisor']], on='date', how='inner')\n",
    "\n",
    "# Printing the average ratio between number of calls and number of advisors per hour that will result in waiting that is less than the disired wainting time\n",
    "print(test_df[(test_df['avg_time_accept_min'] < WAITING_TIME_GOAL) & (test_df['avg_time_abandon_min'] < WAITING_TIME_GOAL)]['ratio_call_advisor'].mean())\n",
    "print(test_df[(test_df['avg_time_accept_min'] < WAITING_TIME_GOAL) & (test_df['avg_time_abandon_min'] < WAITING_TIME_GOAL)]['ticket count per advisor'].mean())"
   ]
  },
  {
   "cell_type": "code",
   "execution_count": null,
   "metadata": {},
   "outputs": [],
   "source": [
    "test_df['ratio_call_advisor'].describe()"
   ]
  },
  {
   "cell_type": "markdown",
   "metadata": {},
   "source": [
    "### Average ratio between average number of calls and average number of advisors per hour that result in wait time more than the optimal wait time"
   ]
  },
  {
   "cell_type": "code",
   "execution_count": null,
   "metadata": {},
   "outputs": [],
   "source": [
    "test_df[(test_df['avg_time_accept_min'] > WAITING_TIME_GOAL) & (test_df['avg_time_abandon_min'] > WAITING_TIME_GOAL)]['ratio_call_advisor'].mean()"
   ]
  },
  {
   "cell_type": "markdown",
   "metadata": {},
   "source": [
    "### ROI with Prediction"
   ]
  },
  {
   "cell_type": "code",
   "execution_count": null,
   "metadata": {},
   "outputs": [],
   "source": [
    "def cast_CCT_features(df):\n",
    "    dates_list = ['Submit_Date','Reported_Date','Required_Resolution_DateTime','Responded_Date','Last_Resolved_Date','closed_date']\n",
    "    for col in dates_list:\n",
    "        df[col] = pd.to_datetime(df[col].fillna('1900-01-01 00:00:00.000'))\n",
    "        df[col + '_day'] = df[col].apply(lambda x: x.strftime('%Y-%m-%d')) # To group by day\n",
    "        df[col + '_with_hour'] =df[col].apply(lambda x: x.strftime('%Y-%m-%d %H:00')) # To group by day\n",
    "    return df"
   ]
  },
  {
   "cell_type": "code",
   "execution_count": null,
   "metadata": {},
   "outputs": [],
   "source": [
    "result_path = gs_uri + 'results/'\n",
    "\n",
    "preds = pd.read_csv(result_path + 'ticket_count_prediction_202005062015.csv')\n",
    "preds['date'] = pd.to_datetime(preds['date'])\n",
    "#\n",
    "perf = pd.read_csv(dataset_path + 'performance_centre_appels_sept2017_mars2020.csv', encoding='iso-8859-1')\n",
    "perf.columns = ['week_day', 'date', 'total_calls', 'accept', 'accept_percent', 'abandon', 'abandon_percent',\n",
    "                'SLA', 'avg_time_treat', 'avg_time_engage', 'avg_time_accept', 'avg_time_abadon', \n",
    "                'max_time_accept', 'max_time_abandon', 'accept_percent_no_attend', 'abandon_during_ring',\n",
    "                'abandon_short', 'other']\n",
    "perf['date'] = pd.to_datetime(perf['date'])\n",
    "perf = perf[['date', 'total_calls', 'avg_time_accept', 'avg_time_abadon']]\n",
    "#\n",
    "inci = pd.read_csv(dataset_path + 'IncidentsCTT20170930_2.csv', encoding=\"ISO-8859-1\", low_memory=False)\n",
    "inci = inci.loc[~inci['Submitter'].str.contains('SYSTEM')]\n",
    "inci = cast_CCT_features(inci)\n",
    "groupby = inci.groupby('Submit_Date_day')\n",
    "agg_df = pd.DataFrame(groupby['status'].count().reset_index().values, columns=['Submit_Date_day', 'Ticket cnt'])\n",
    "agg_df['total_real_calls'] = agg_df['Ticket cnt'].astype(int)\n",
    "agg_df['date'] = pd.to_datetime(agg_df['Submit_Date_day'])\n",
    "agg_df = agg_df[['date', 'total_real_calls']]"
   ]
  },
  {
   "cell_type": "code",
   "execution_count": null,
   "metadata": {},
   "outputs": [],
   "source": [
    "final = preds[['date', 'ticket cnt pred']]\\\n",
    "                .merge(perf[['date', 'total_calls', 'avg_time_accept', 'avg_time_abadon']], \n",
    "                       on='date', how='left')\\\n",
    "                .merge(agg_df, on='date', how='left')\n",
    "final.head()"
   ]
  },
  {
   "cell_type": "markdown",
   "metadata": {},
   "source": [
    "### Optimal case with perfect prediction"
   ]
  },
  {
   "cell_type": "code",
   "execution_count": null,
   "metadata": {},
   "outputs": [],
   "source": [
    "final['accept_time_gains']  = (final['avg_time_accept']/60.  - 7.) * final['total_real_calls']  / 60\n",
    "#\n",
    "print(\"accept time to lose\", final.loc[final['accept_time_gains'] < 0, 'accept_time_gains'].sum(), 'hours')\n",
    "print(\"accept time to gain\", final.loc[final['accept_time_gains'] > 0, 'accept_time_gains'].sum(), 'hours')"
   ]
  },
  {
   "cell_type": "markdown",
   "metadata": {},
   "source": [
    "### With prediction\n",
    "\n",
    "- Assume that the difference between predicted and total calls have a direct linear impact on the average wait time\n",
    "- The result suggests that the prediction tend to over-predict, which benefits time to gain, and at the same time increase time to lose"
   ]
  },
  {
   "cell_type": "code",
   "execution_count": null,
   "metadata": {},
   "outputs": [],
   "source": [
    "final['avg_time_pred'] = (final['total_real_calls'] / final['ticket cnt pred']) * 7.\n",
    "#\n",
    "final['pred_time_gains']  = (final['avg_time_accept']/60. - final['avg_time_pred']) * final['total_real_calls'] /60.\n",
    "\n",
    "cost_IT_call_center = int(final.loc[final['pred_time_gains'] < 0, 'pred_time_gains'].sum())\n",
    "cost_WT_Videotron_employee = int(final.loc[final['pred_time_gains'] > 0, 'pred_time_gains'].sum())\n",
    "\n",
    "\n",
    "print(\"pred time to lose (3 months): %d hours\" % cost_IT_call_center)\n",
    "print(\"pred time to gain (3 months): %d hours\" % cost_WT_Videotron_employee)"
   ]
  },
  {
   "cell_type": "code",
   "execution_count": null,
   "metadata": {},
   "outputs": [],
   "source": [
    "plt.plot(range(final.shape[0]), final['ticket cnt pred'], 'r--', label='Predict') \n",
    "plt.plot(range(final.shape[0]), final['total_real_calls'], 'b--', label='Real')\n",
    "plt.xlabel('Observation day')\n",
    "plt.legend()\n",
    "plt.show()"
   ]
  },
  {
   "cell_type": "markdown",
   "metadata": {},
   "source": [
    "### Compute the annualize ROI from the 3 months of test\n",
    "Multiply by 4 the results\n",
    "* Hourly rate for the employee in the IT call center: 50$ per hour\n",
    "\n",
    "* Hourly rate for the Videotron employee when they call the IT center: 110$ per hour"
   ]
  },
  {
   "cell_type": "code",
   "execution_count": null,
   "metadata": {},
   "outputs": [],
   "source": [
    "print(\"Cost to lose\", cost_IT_call_center * 50 * 4)\n",
    "print(\"Cost to gain\", cost_WT_Videotron_employee * 110 * 4)"
   ]
  },
  {
   "cell_type": "code",
   "execution_count": null,
   "metadata": {},
   "outputs": [],
   "source": [
    "rate_1 = 50\n",
    "rate_2 = 110\n",
    "\n",
    "cost_IT_call_center_annualize = -1*cost_IT_call_center*4\n",
    "cost_WT_Videotron_employee_annualize = cost_WT_Videotron_employee*4\n",
    "\n",
    "print('Number of hours saved in the IT call center every year: %d' % cost_IT_call_center_annualize)\n",
    "print('Number of hours of waiting time saved for the Videotron\\'s employee: %d' % cost_WT_Videotron_employee_annualize)\n",
    "\n",
    "print('Cost saved in the IT call center every year: %d$' % (cost_IT_call_center_annualize*rate_1))\n",
    "print('Cost on waiting time saved for the Videotron\\'s employee: {:9,.0f}$\\n'.format(cost_WT_Videotron_employee_annualize*rate_2))\n",
    "\n",
    "\n",
    "total_ROI = cost_IT_call_center_annualize*rate_1+cost_WT_Videotron_employee_annualize*rate_2\n",
    "print(56*'*')\n",
    "print('Total potential ROI of the project on 1 year: {:9,.0f}$'.format(total_ROI))\n",
    "print(56*'*')"
   ]
  },
  {
   "cell_type": "code",
   "execution_count": null,
   "metadata": {},
   "outputs": [],
   "source": []
  },
  {
   "cell_type": "code",
   "execution_count": null,
   "metadata": {},
   "outputs": [],
   "source": []
  }
 ],
 "metadata": {
  "kernelspec": {
   "display_name": "Python 3",
   "language": "python",
   "name": "python3"
  },
  "language_info": {
   "codemirror_mode": {
    "name": "ipython",
    "version": 3
   },
   "file_extension": ".py",
   "mimetype": "text/x-python",
   "name": "python",
   "nbconvert_exporter": "python",
   "pygments_lexer": "ipython3",
   "version": "3.7.6"
  }
 },
 "nbformat": 4,
 "nbformat_minor": 4
}
